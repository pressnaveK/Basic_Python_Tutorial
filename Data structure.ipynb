{
 "cells": [
  {
   "cell_type": "markdown",
   "id": "827b6f87",
   "metadata": {},
   "source": [
    "# Data structure in Python\n",
    "There are three ways that we can denote the arrays(ordered)....................................................................\n",
    " \n",
    " 1.List - Variable array\n",
    " \n",
    " 2.Tuple - constant array (Any elements(keys) of this array cannot be removable or editalble,The execution time is lower than other arrays)\n",
    " \n",
    " 3.Dictionary - A variable array but keys(elements) can be named\n",
    " The special characteristic of these arrays is containing various data types in one array \n",
    " \n",
    " There is another data type set(unordered) is used in python for eleminating or testing duplicate data"
   ]
  },
  {
   "cell_type": "code",
   "execution_count": 2,
   "id": "0701cecd",
   "metadata": {},
   "outputs": [
    {
     "name": "stdout",
     "output_type": "stream",
     "text": [
      " Calling an element of list or tuple \n",
      " tup[0] -1 \n",
      " lst[0] - 1 \n",
      " Calling an element of dictionary \n",
      " dic['name']  - Pressnave\n"
     ]
    }
   ],
   "source": [
    "#Array Type\n",
    "tup = (1,'tree',7,9,1) #Example for a tuple\n",
    "lst = [1,4,3,2] #Example for a list\n",
    "#Example for a dictionary, here 'name','age' are called keys should be into the '' seems like {'keys' : values} .\n",
    "dic = {'name':\"Pressnave\" , 'age':23} \n",
    "\n",
    "print(f\" Calling an element of list or tuple \\n tup[0] -{tup[0]} \\n lst[0] - {lst[0]} \\n Calling an element of dictionary \\n dic['name']  - {dic['name']}\" ) "
   ]
  },
  {
   "cell_type": "markdown",
   "id": "6c0640b0",
   "metadata": {},
   "source": [
    "# Inbuilt function for both tuple and list\n"
   ]
  },
  {
   "cell_type": "raw",
   "id": "6890f11a",
   "metadata": {},
   "source": [
    "(1)tup.count('tree') - returning the count of string 'tree' into the array tup\n",
    "(2)tup.index(1)      - returning the place where the value 1 is located\n",
    "(3)tup.index(1,2)    - returning the place where the value 1 from the index 2\n",
    "(4)len(tup)          - returning the length of tup\n",
    "(5)c = tup[:]"
   ]
  },
  {
   "cell_type": "code",
   "execution_count": 3,
   "id": "b902e361",
   "metadata": {},
   "outputs": [
    {
     "name": "stdout",
     "output_type": "stream",
     "text": [
      "tup.count(1) - 1\n",
      "tup.index(1) - 0\n",
      "tup.index(1,2) - 4 \n",
      "len(tup) - 5 \n",
      "c = (1, 'tree', 7, 9, 1) copy of whole array tup \n",
      "d = ('tree', 7, 9, 1) copy of array tup from its index-1 \n",
      "e = ('tree', 7) copy of array tup from its index 1 - 3 \n"
     ]
    }
   ],
   "source": [
    "#count number of elements\n",
    "print(f\"tup.count(1) - {tup.count('tree')}\")\n",
    "#find index of the element\n",
    "print(f\"tup.index(1) - {tup.index(1)}\")\n",
    "print(f\"tup.index(1,2) - {tup.index(1,2)} \")\n",
    "#finding the lengh of the array\n",
    "print(f\"len(tup) - {len(tup)} \")\n",
    "#Copy all values of a into c\n",
    "c = tup[:]\n",
    "d = tup[1:]\n",
    "e = tup[1:3]\n",
    "print(f\"c = {c} copy of whole array tup \\nd = {d} copy of array tup from its index-1 \\ne = {e} copy of array tup from its index 1 - 3 \")\n",
    "\n"
   ]
  },
  {
   "cell_type": "markdown",
   "id": "3647ab60",
   "metadata": {},
   "source": [
    "# Inbuilt additional functions for list\n",
    "Sorting operations"
   ]
  },
  {
   "cell_type": "code",
   "execution_count": 4,
   "id": "6e558076",
   "metadata": {},
   "outputs": [
    {
     "name": "stdout",
     "output_type": "stream",
     "text": [
      "Before lst.reverse() - [1, 4, 3, 2]\n",
      "After lst.reverse() - [2, 3, 4, 1]\n",
      "After lst.sort() - [1, 2, 3, 4] \n",
      "\n"
     ]
    }
   ],
   "source": [
    "print(f\"Before lst.reverse() - {lst}\")\n",
    "lst.reverse() #Reversing the array here first element of lst becomes last\n",
    "print(f\"After lst.reverse() - {lst}\")\n",
    "lst.sort() #Ascending order\n",
    "print(f\"After lst.sort() - {lst} \\n\")"
   ]
  },
  {
   "cell_type": "markdown",
   "id": "ddd5a6e0",
   "metadata": {},
   "source": [
    "extend and append operations"
   ]
  },
  {
   "cell_type": "code",
   "execution_count": 5,
   "id": "423be35a",
   "metadata": {},
   "outputs": [
    {
     "name": "stdout",
     "output_type": "stream",
     "text": [
      "After lst[len(lst):] = [4,5] - [1, 2, 3, 4, 4, 5]\n",
      "After lst.extend([6,7]) - [1, 2, 3, 4, 4, 5, 6, 7]\n",
      "After lst.insert(2,6) - [1, 2, 6, 3, 4, 4, 5, 6, 7]\n",
      "After lst.append(7) - [1, 2, 6, 3, 4, 4, 5, 6, 7, 7]\n",
      "\n"
     ]
    }
   ],
   "source": [
    "lst[len(lst):] = [4,5]#Extend\n",
    "print(f\"After lst[len(lst):] = [4,5] - {lst}\")\n",
    "lst.extend([6,7])#Extend\n",
    "print(f\"After lst.extend([6,7]) - {lst}\")\n",
    "lst.insert(2,6)#insert 6 in the second position of the array\n",
    "print(f\"After lst.insert(2,6) - {lst}\")\n",
    "lst.append(7)#insert 3 as last element of the array\n",
    "print(f\"After lst.append(7) - {lst}\\n\")"
   ]
  },
  {
   "cell_type": "markdown",
   "id": "aef8bf56",
   "metadata": {},
   "source": [
    "Delete operation ."
   ]
  },
  {
   "cell_type": "code",
   "execution_count": 6,
   "id": "f00dfb7e",
   "metadata": {},
   "outputs": [
    {
     "name": "stdout",
     "output_type": "stream",
     "text": [
      "After lst.pop() - [1, 2, 6, 3, 4, 4, 5, 6, 7]\n",
      "After del lst[2] - [1, 2, 3, 4, 4, 5, 6, 7]\n",
      "After del lst[1:3] - [1, 4, 4, 5, 6, 7]\n",
      "After del lst[:] - []\n",
      "\n"
     ]
    }
   ],
   "source": [
    "lst.pop(len(lst) -1)#remove given position of element\n",
    "print(f\"After lst.pop() - {lst}\")\n",
    "del lst[2] #delete the second position element of the array\n",
    "print(f\"After del lst[2] - {lst}\")\n",
    "del lst[1:3] #delete from first positon to third position except third position\n",
    "print(f\"After del lst[1:3] - {lst}\")\n",
    "del lst[:] #Delete all elements in the array instead of this function b.clear() can be used\n",
    "print(f\"After del lst[:] - {lst}\\n\")"
   ]
  },
  {
   "cell_type": "markdown",
   "id": "e506b276",
   "metadata": {},
   "source": [
    "range, zip (for zipping multiple values in a index) , elementary operations in python"
   ]
  },
  {
   "cell_type": "code",
   "execution_count": 7,
   "id": "f1183d35",
   "metadata": {},
   "outputs": [
    {
     "name": "stdout",
     "output_type": "stream",
     "text": [
      " L1 = [2, 3, 4, 5, 6] \n",
      " L2 = [1, 2, 3, 4, 5] \n",
      " L3 = [(2, 1), (3, 2), (4, 3), (5, 4), (6, 5)] \n",
      " Result = [3, 5, 7, 9, 11] \n",
      " result = [1, 1, 1, 1, 1]\n"
     ]
    }
   ],
   "source": [
    "L1 = list(range(2,7))\n",
    "L2 = [i for i in range(1,6)]\n",
    "L3 = list(zip(L1,L2))\n",
    "Result = [(x+y) for x,y in zip(L1,L2)]\n",
    "result = [(x-y) for x,y in L3]\n",
    "\n",
    "\n",
    "string = f\" L1 = {L1} \\n L2 = {L2} \\n L3 = {L3} \\n Result = {Result} \\n result = {result}\"\n",
    "print(string)\n",
    "\n"
   ]
  },
  {
   "cell_type": "markdown",
   "id": "a31e42a4",
   "metadata": {},
   "source": [
    "### map(func,list) function"
   ]
  },
  {
   "cell_type": "code",
   "execution_count": 26,
   "id": "d35c3630",
   "metadata": {},
   "outputs": [
    {
     "name": "stdout",
     "output_type": "stream",
     "text": [
      "lst_int = [2, 5, 8]\n",
      "lst_fx = [4, 10, 16] \n"
     ]
    }
   ],
   "source": [
    "fx = lambda x: 2*x\n",
    "lst_str = ['2','5', '8']\n",
    "lst_int = list(map(int,lst_str))\n",
    "print(f\"lst_int = {lst_int}\")\n",
    "lst_fx = list(map(fx,lst_int))\n",
    "print(f\"lst_fx = {lst_fx} \")"
   ]
  },
  {
   "cell_type": "markdown",
   "id": "eb6ecf5d",
   "metadata": {},
   "source": [
    "# Inbuilt functions for dictionary"
   ]
  },
  {
   "cell_type": "code",
   "execution_count": 8,
   "id": "bff36bd7",
   "metadata": {},
   "outputs": [
    {
     "name": "stdout",
     "output_type": "stream",
     "text": [
      "dic_1 = {'name': 'Pressnave', 'age': 23}\n",
      "dic_1 = {}\n",
      "keys = dict_keys(['name', 'age'])\n",
      "values = dict_values(['Pressnave', 23])\n",
      "items = dict_items([('name', 'Pressnave'), ('age', 23)])\n",
      "{'name': 'Pressnave', 'age': 45, 'Profession': 'Engineering'}\n"
     ]
    }
   ],
   "source": [
    "#Copy dictionary\n",
    "dic_1 = dic.copy() \n",
    "print(f\"dic_1 = {dic_1}\")\n",
    "#Clear dictionary\n",
    "dic_1.clear()\n",
    "print(f\"dic_1 = {dic_1}\")\n",
    "\n",
    "#Unzipping dictionary into two seperate lists of keys and values\n",
    "keys = dic.keys()\n",
    "print(f\"keys = {keys}\")\n",
    "values = dic.values()\n",
    "print(f\"values = {values}\")\n",
    "\n",
    "#Extract dictionary as a list contains tuple values\n",
    "items = dic.items()\n",
    "print(f\"items = {items}\")\n",
    "\n",
    "#Update values\n",
    "dic.update({'age': 45,'Profession': 'Engineering'})\n",
    "print(dic)"
   ]
  },
  {
   "cell_type": "markdown",
   "id": "f9915fa2",
   "metadata": {},
   "source": [
    "# Copy from one to another"
   ]
  },
  {
   "cell_type": "code",
   "execution_count": 9,
   "id": "ff193b73",
   "metadata": {},
   "outputs": [
    {
     "name": "stdout",
     "output_type": "stream",
     "text": [
      " tup_1 = (1, 2, 7) and lst_1 = [1, 'tree', 7, 9, 1]\n",
      "lst_2 = [3, 5] and tup_2 = (3, 5)\n",
      "lst_keys = ['name', 'age', 'Profession']\n",
      "lst_values = ['Pressnave', 45, 'Engineering']\n",
      "dic_Rearrange = {'name': 'Pressnave', 'age': 45, 'Profession': 'Engineering'}\n"
     ]
    }
   ],
   "source": [
    "tup_1 = (1,2,7)\n",
    "lst_1 = list(tup) #Assign lst_1 as a list form of tup_1\n",
    "print(f\" tup_1 = {tup_1} and lst_1 = {lst_1}\")\n",
    "\n",
    "lst_2 = [3,5]\n",
    "tup_2 = tuple(lst_2)#Assign tup_2 as a tuple form of lst_2\n",
    "print(f\"lst_2 = {lst_2} and tup_2 = {tup_2}\")\n",
    "\n",
    "lst_keys = list(keys)\n",
    "print(f\"lst_keys = {lst_keys}\")\n",
    "\n",
    "lst_values = list(values)\n",
    "print(f\"lst_values = {lst_values}\")\n",
    "\n",
    "dic_Rearrange = dict(zip(lst_keys,lst_values))\n",
    "print(f\"dic_Rearrange = {dic_Rearrange}\")\n"
   ]
  },
  {
   "cell_type": "markdown",
   "id": "7d299c60",
   "metadata": {},
   "source": [
    "# Sets"
   ]
  },
  {
   "cell_type": "markdown",
   "id": "e7a0e04f",
   "metadata": {},
   "source": [
    "It avoids duplicate data and it's unordered list( cannot be indexing)"
   ]
  },
  {
   "cell_type": "code",
   "execution_count": 10,
   "id": "b5890461",
   "metadata": {},
   "outputs": [
    {
     "name": "stdout",
     "output_type": "stream",
     "text": [
      "x = {8, 1, 2} len(x) = 3\n"
     ]
    }
   ],
   "source": [
    "x = {1,2,8,8}\n",
    "print(f\"x = {x} len(x) = {len(x)}\")"
   ]
  },
  {
   "cell_type": "markdown",
   "id": "1e84c6f7",
   "metadata": {},
   "source": [
    "Can update by any data structures"
   ]
  },
  {
   "cell_type": "code",
   "execution_count": 11,
   "id": "0454d55d",
   "metadata": {},
   "outputs": [
    {
     "name": "stdout",
     "output_type": "stream",
     "text": [
      "{1, 2, 6, 7, 8}\n"
     ]
    }
   ],
   "source": [
    "y = (6,7,8)\n",
    "x.update(y)\n",
    "print(x)"
   ]
  },
  {
   "cell_type": "code",
   "execution_count": 12,
   "id": "07825b0b",
   "metadata": {},
   "outputs": [
    {
     "data": {
      "text/plain": [
       "set"
      ]
     },
     "execution_count": 12,
     "metadata": {},
     "output_type": "execute_result"
    }
   ],
   "source": [
    "type(x)"
   ]
  },
  {
   "cell_type": "markdown",
   "id": "ee0bdf88",
   "metadata": {},
   "source": [
    "# String Operations"
   ]
  },
  {
   "cell_type": "code",
   "execution_count": 13,
   "id": "ec8543cd",
   "metadata": {},
   "outputs": [
    {
     "name": "stdout",
     "output_type": "stream",
     "text": [
      "True\n"
     ]
    }
   ],
   "source": [
    "txt = \"This is me\"\n",
    "Check = \"This\" in txt # Check whether the word \"This\" does exist or not\n",
    "print(Check)"
   ]
  },
  {
   "cell_type": "code",
   "execution_count": 14,
   "id": "29c5f73b",
   "metadata": {},
   "outputs": [
    {
     "name": "stdout",
     "output_type": "stream",
     "text": [
      "Num isnumric() = True \n",
      " Num.isdecimal() = True\n"
     ]
    }
   ],
   "source": [
    "Num = \"101\"\n",
    "check1 = Num.isnumeric() #Check whether string is numerical we can use Num.isdecimal() also\n",
    "check2 = Num.isdecimal()\n",
    "print(f\"Num isnumric() = {check1} \\n Num.isdecimal() = {check2}\")"
   ]
  },
  {
   "cell_type": "code",
   "execution_count": 15,
   "id": "3027c8c3",
   "metadata": {},
   "outputs": [
    {
     "name": "stdout",
     "output_type": "stream",
     "text": [
      "txt1.islower() = True\n",
      " txt2.isupper() = True\n"
     ]
    }
   ],
   "source": [
    "txt1 = \"blue\"\n",
    "txt2 = \"BLUE\"\n",
    "check1 = txt1.islower()\n",
    "check2 = txt2.isupper()\n",
    "print(f\"txt1.islower() = {check1}\\n txt2.isupper() = {check2}\")\n"
   ]
  },
  {
   "cell_type": "markdown",
   "id": "6c74502b",
   "metadata": {},
   "source": [
    "### 'string'.join(var) function"
   ]
  },
  {
   "cell_type": "code",
   "execution_count": 16,
   "id": "825fd0a4",
   "metadata": {},
   "outputs": [
    {
     "name": "stdout",
     "output_type": "stream",
     "text": [
      "txt.startswith('Year') = True \n",
      " txt.endswith('2020') = True\n",
      "lst = ['Year', '2020']\n",
      "' '.join(lst) = Year 2020\n"
     ]
    }
   ],
   "source": [
    "txt = \"Year 2020\"\n",
    "check1 = txt.startswith(\"Year\")\n",
    "check2 = txt.endswith(\"2020\")\n",
    "lst = txt.split()\n",
    "print(f\"txt.startswith('Year') = {check1} \\n txt.endswith('2020') = {check2}\")\n",
    "print(f\"lst = {lst}\")\n",
    "joinedtxt = ' '.join(lst)\n",
    "print(f\"' '.join(lst) = {joinedtxt}\")"
   ]
  },
  {
   "cell_type": "code",
   "execution_count": 17,
   "id": "9318db2f",
   "metadata": {},
   "outputs": [
    {
     "name": "stdout",
     "output_type": "stream",
     "text": [
      "lst1 = ['this', 'is', 'the', 'thing']  lst2 = ['pressnave', 'gmail.com']\n"
     ]
    }
   ],
   "source": [
    "email = \"pressnave@gmail.com\"\n",
    "txt = \"this is the thing\"\n",
    "lst1 = txt.split()\n",
    "lst2 = email.split('@')\n",
    "print(f\"lst1 = {lst1}  lst2 = {lst2}\")"
   ]
  },
  {
   "cell_type": "code",
   "execution_count": 2,
   "id": "567fe765",
   "metadata": {},
   "outputs": [
    {
     "name": "stdout",
     "output_type": "stream",
     "text": [
      "txt =     Clear it    \n",
      "txt.strip() = Clear it\n",
      "txt.lstrip() = Clear it    \n",
      "txt.rstrip() =     Clear it\n"
     ]
    }
   ],
   "source": [
    "txt = \"    Clear it    \"\n",
    "print(f\"txt = {txt}\")\n",
    "print(f\"txt.strip() = {txt.strip()}\")\n",
    "print(f\"txt.lstrip() = {txt.lstrip()}\")\n",
    "print(f\"txt.rstrip() = {txt.rstrip()}\")"
   ]
  },
  {
   "cell_type": "markdown",
   "id": "6247c6ba",
   "metadata": {},
   "source": [
    "# Assignments"
   ]
  },
  {
   "cell_type": "code",
   "execution_count": 35,
   "id": "9987a77f",
   "metadata": {},
   "outputs": [
    {
     "name": "stdout",
     "output_type": "stream",
     "text": [
      " a = this\n",
      " rest = ['2', '7', '8']\n"
     ]
    }
   ],
   "source": [
    "a,*rest = \"this 2 7 8\".split()\n",
    "print(f\" a = {a}\\n rest = {rest}\")\n",
    "\n"
   ]
  },
  {
   "cell_type": "markdown",
   "id": "7afc5323",
   "metadata": {},
   "source": [
    "# Examples"
   ]
  },
  {
   "cell_type": "markdown",
   "id": "a22fc70b",
   "metadata": {},
   "source": [
    "We can assign variables to a list."
   ]
  },
  {
   "cell_type": "code",
   "execution_count": 19,
   "id": "f1d63c11",
   "metadata": {},
   "outputs": [
    {
     "name": "stdout",
     "output_type": "stream",
     "text": [
      "[1, 3]\n"
     ]
    }
   ],
   "source": [
    "a = 1\n",
    "b = 3\n",
    "c = [a,b]\n",
    "print(c)"
   ]
  },
  {
   "cell_type": "markdown",
   "id": "b1b6749f",
   "metadata": {},
   "source": [
    "For avoiding duplicate data, we can use set."
   ]
  },
  {
   "cell_type": "code",
   "execution_count": 20,
   "id": "33a52c6b",
   "metadata": {},
   "outputs": [
    {
     "name": "stdout",
     "output_type": "stream",
     "text": [
      "[-10, 10]\n"
     ]
    }
   ],
   "source": [
    "Set = {10,-10,10,10}\n",
    "Mat = list(Set)\n",
    "Mat.sort()\n",
    "           \n",
    "print(Mat)"
   ]
  },
  {
   "cell_type": "markdown",
   "id": "504af6ba",
   "metadata": {},
   "source": [
    "# "
   ]
  },
  {
   "cell_type": "code",
   "execution_count": 21,
   "id": "5a0a9ac4",
   "metadata": {},
   "outputs": [
    {
     "name": "stdout",
     "output_type": "stream",
     "text": [
      "0 tic\n",
      "1 tac\n",
      "2 toe\n"
     ]
    }
   ],
   "source": [
    "for i, v in enumerate(['tic', 'tac', 'toe']):\n",
    "    print(i, v)"
   ]
  },
  {
   "cell_type": "code",
   "execution_count": 22,
   "id": "2c366464",
   "metadata": {},
   "outputs": [
    {
     "name": "stdout",
     "output_type": "stream",
     "text": [
      "40\n"
     ]
    }
   ],
   "source": [
    "bar = int(100 * (20/float(50)))\n",
    "print(bar)"
   ]
  },
  {
   "cell_type": "code",
   "execution_count": 23,
   "id": "400fc445",
   "metadata": {},
   "outputs": [
    {
     "data": {
      "text/plain": [
       "['This', '123']"
      ]
     },
     "execution_count": 23,
     "metadata": {},
     "output_type": "execute_result"
    }
   ],
   "source": [
    " txt = \"This 123\"\n",
    "txt.split(\" \")"
   ]
  },
  {
   "cell_type": "code",
   "execution_count": 24,
   "id": "5ffe6531",
   "metadata": {},
   "outputs": [
    {
     "ename": "ValueError",
     "evalue": "invalid literal for int() with base 10: 'This'",
     "output_type": "error",
     "traceback": [
      "\u001b[1;31m---------------------------------------------------------------------------\u001b[0m",
      "\u001b[1;31mValueError\u001b[0m                                Traceback (most recent call last)",
      "\u001b[1;32me:\\MECHATRONICS\\Learn_Programming\\Python\\Basics\\Data structure.ipynb Cell 40'\u001b[0m in \u001b[0;36m<cell line: 1>\u001b[1;34m()\u001b[0m\n\u001b[1;32m----> <a href='vscode-notebook-cell:/e%3A/MECHATRONICS/Learn_Programming/Python/Basics/Data%20structure.ipynb#ch0000039?line=0'>1</a>\u001b[0m \u001b[39mint\u001b[39;49m(\u001b[39m\"\u001b[39;49m\u001b[39mThis\u001b[39;49m\u001b[39m\"\u001b[39;49m)\n",
      "\u001b[1;31mValueError\u001b[0m: invalid literal for int() with base 10: 'This'"
     ]
    }
   ],
   "source": [
    "int(\"This\")"
   ]
  },
  {
   "cell_type": "code",
   "execution_count": null,
   "id": "780a2c80",
   "metadata": {},
   "outputs": [
    {
     "ename": "ValueError",
     "evalue": "invalid literal for int() with base 10: 'A'",
     "output_type": "error",
     "traceback": [
      "\u001b[1;31m---------------------------------------------------------------------------\u001b[0m",
      "\u001b[1;31mValueError\u001b[0m                                Traceback (most recent call last)",
      "Input \u001b[1;32mIn [15]\u001b[0m, in \u001b[0;36m<cell line: 1>\u001b[1;34m()\u001b[0m\n\u001b[1;32m----> 1\u001b[0m \u001b[38;5;28;43mint\u001b[39;49m\u001b[43m(\u001b[49m\u001b[38;5;124;43m\"\u001b[39;49m\u001b[38;5;124;43mA\u001b[39;49m\u001b[38;5;124;43m\"\u001b[39;49m\u001b[43m)\u001b[49m\n",
      "\u001b[1;31mValueError\u001b[0m: invalid literal for int() with base 10: 'A'"
     ]
    }
   ],
   "source": [
    "int(\"A\")\n"
   ]
  },
  {
   "cell_type": "code",
   "execution_count": 1,
   "id": "fd977268",
   "metadata": {},
   "outputs": [
    {
     "name": "stdout",
     "output_type": "stream",
     "text": [
      "None\n"
     ]
    }
   ],
   "source": [
    "def add(a,b):\n",
    "    c = a + b\n",
    "    return\n",
    "sum = add(4,5)\n",
    "print(sum)"
   ]
  },
  {
   "cell_type": "code",
   "execution_count": null,
   "id": "ffc7ade2",
   "metadata": {},
   "outputs": [],
   "source": []
  }
 ],
 "metadata": {
  "interpreter": {
   "hash": "11938c6bc6919ae2720b4d5011047913343b08a43b18698fd82dedb0d4417594"
  },
  "kernelspec": {
   "display_name": "Python 3 (ipykernel)",
   "language": "python",
   "name": "python3"
  },
  "language_info": {
   "codemirror_mode": {
    "name": "ipython",
    "version": 3
   },
   "file_extension": ".py",
   "mimetype": "text/x-python",
   "name": "python",
   "nbconvert_exporter": "python",
   "pygments_lexer": "ipython3",
   "version": "3.9.11"
  },
  "toc": {
   "base_numbering": 1,
   "nav_menu": {},
   "number_sections": true,
   "sideBar": true,
   "skip_h1_title": false,
   "title_cell": "Table of Contents",
   "title_sidebar": "Contents",
   "toc_cell": false,
   "toc_position": {},
   "toc_section_display": true,
   "toc_window_display": true
  }
 },
 "nbformat": 4,
 "nbformat_minor": 5
}
