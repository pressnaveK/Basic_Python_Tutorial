{
 "cells": [
  {
   "cell_type": "markdown",
   "id": "08cf4c60",
   "metadata": {},
   "source": [
    "# Class\n",
    "To create a constructor of a class we use _\\_\\_init___ special method.<br>\n",
    "_\\_\\_init___ _(arg1,arg2,arg3,...)_ - Here __arg1__ for defining __self element__ of a class.we can name it whatever we like. __self is not a keyword__ of a python in below script."
   ]
  },
  {
   "cell_type": "code",
   "execution_count": 1,
   "id": "bb4fb75a",
   "metadata": {},
   "outputs": [],
   "source": [
    "class student():\n",
    "    #Defining Constructor\n",
    "    def __init__(self,age,maths,science):\n",
    "        #Assign class arguments to attributes of the class\n",
    "        self.Age = age\n",
    "        self.Maths = maths\n",
    "        self.Science = science\n",
    "    #Define a method of class\n",
    "    def total(self):\n",
    "        return self.Maths + self.Science\n",
    "    #Define a method by using method of same class\n",
    "    def average(self):\n",
    "        return self.total()/2\n",
    "    #Define a method with additional argument\n",
    "    def weightedScore(self,MathWeight = 0.5):\n",
    "        return self.Maths*MathWeight + self.Science*(1-MathWeight)\n",
    "        \n",
    "        "
   ]
  },
  {
   "cell_type": "code",
   "execution_count": 2,
   "id": "ba659598",
   "metadata": {},
   "outputs": [
    {
     "data": {
      "text/plain": [
       "23"
      ]
     },
     "execution_count": 2,
     "metadata": {},
     "output_type": "execute_result"
    }
   ],
   "source": [
    "#Create an object\n",
    "new_student = student(23,45,89)\n",
    "new_student.Age\n"
   ]
  },
  {
   "cell_type": "code",
   "execution_count": 3,
   "id": "bebaef60",
   "metadata": {},
   "outputs": [
    {
     "name": "stdout",
     "output_type": "stream",
     "text": [
      "Total = 134 \n",
      " Avarage = 67.0 \n",
      " WeightedScore = 58.2\n"
     ]
    }
   ],
   "source": [
    "Total = new_student.total()\n",
    "Average = new_student.average()\n",
    "WeightedScore = new_student.weightedScore(0.7)\n",
    "print(f\"Total = {Total} \\n Avarage = {Average} \\n WeightedScore = {WeightedScore}\")\n",
    "\n"
   ]
  },
  {
   "cell_type": "markdown",
   "id": "12220a9a",
   "metadata": {},
   "source": [
    "## Inheritance\n",
    "super().\\_\\_init__() method is used to inherit attributes of super class....."
   ]
  },
  {
   "cell_type": "markdown",
   "id": "d896dc8c",
   "metadata": {},
   "source": [
    "- Superclass - student\n",
    "- Childclass - classLeader"
   ]
  },
  {
   "cell_type": "code",
   "execution_count": 4,
   "id": "6a10b4d4",
   "metadata": {},
   "outputs": [],
   "source": [
    "class classLeader(student):\n",
    "    def __init__(self,Age,Maths,Science, Leadership):\n",
    "        #Function call of super class\n",
    "        super().__init__(Age,Maths,science=Science)\n",
    "        self.leadership = Leadership\n",
    "    def posiblity(self):\n",
    "        if self.total() > 100 and self.leadership:\n",
    "            print(\"Eligible for class leader\")\n",
    "        else:\n",
    "            print(\"Not eligible\")"
   ]
  },
  {
   "cell_type": "code",
   "execution_count": 5,
   "id": "cc4da1d2",
   "metadata": {},
   "outputs": [
    {
     "name": "stdout",
     "output_type": "stream",
     "text": [
      "Eligible for class leader\n"
     ]
    }
   ],
   "source": [
    "leader = classLeader(23,56,49,True)\n",
    "leader.posiblity()"
   ]
  },
  {
   "cell_type": "code",
   "execution_count": null,
   "id": "144c253a",
   "metadata": {},
   "outputs": [],
   "source": []
  }
 ],
 "metadata": {
  "interpreter": {
   "hash": "11938c6bc6919ae2720b4d5011047913343b08a43b18698fd82dedb0d4417594"
  },
  "kernelspec": {
   "display_name": "Python 3.9.11 64-bit",
   "language": "python",
   "name": "python3"
  },
  "language_info": {
   "codemirror_mode": {
    "name": "ipython",
    "version": 3
   },
   "file_extension": ".py",
   "mimetype": "text/x-python",
   "name": "python",
   "nbconvert_exporter": "python",
   "pygments_lexer": "ipython3",
   "version": "3.9.11"
  }
 },
 "nbformat": 4,
 "nbformat_minor": 5
}
