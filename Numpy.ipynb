{
 "cells": [
  {
   "cell_type": "code",
   "execution_count": 1,
   "id": "c8dc023e",
   "metadata": {},
   "outputs": [],
   "source": [
    "import numpy as np"
   ]
  },
  {
   "cell_type": "markdown",
   "id": "9db82aca",
   "metadata": {},
   "source": [
    "[Numpy Basics](https://numpy.org/doc/stable/user/basics.creation.html)"
   ]
  },
  {
   "cell_type": "markdown",
   "id": "d903297d",
   "metadata": {},
   "source": [
    "# Why numpy over python list"
   ]
  },
  {
   "cell_type": "markdown",
   "id": "5466f36a",
   "metadata": {},
   "source": [
    "High Speed\n",
    "Low memory Requirement"
   ]
  },
  {
   "cell_type": "code",
   "execution_count": 2,
   "id": "2759601b",
   "metadata": {},
   "outputs": [
    {
     "name": "stdout",
     "output_type": "stream",
     "text": [
      "List process in milliseconds 749.9945163726807\n",
      "Numpy array process in milliseconds 13.003110885620117\n"
     ]
    }
   ],
   "source": [
    "from time import time as tm\n",
    "Size = 10000000\n",
    "List1 = list(range(Size))\n",
    "List2 = list(range(Size))\n",
    "NumpyArr1 = np.arange(Size)\n",
    "NumpyArr2 = np.arange(Size)\n",
    "\n",
    "#Results\n",
    "start = tm()\n",
    "ResultList = [(x+y) for x,y in zip(List1,List2)]\n",
    "print(f\"List process in milliseconds {(tm() - start)*1000}\")\n",
    "\n",
    "start = tm()\n",
    "ResultNumpy = NumpyArr2 + NumpyArr1\n",
    "print(f\"Numpy array process in milliseconds {(tm() - start)*1000}\")\n"
   ]
  },
  {
   "cell_type": "markdown",
   "id": "00711930",
   "metadata": {},
   "source": [
    "# Types of Array"
   ]
  },
  {
   "cell_type": "code",
   "execution_count": 3,
   "id": "cfbcd55f",
   "metadata": {},
   "outputs": [
    {
     "name": "stdout",
     "output_type": "stream",
     "text": [
      " type1 = [7 8 9 8] # Simply defininig an array \n",
      " type2 = [0. 0. 0. 0. 0.] #Defining the array with five numbers of zeros \n",
      " type3 = [1. 1. 1. 1. 1.] #Defining the array with five numbers of ones  \n",
      " type4 = [0.7375034  0.33213995 0.41239234 0.66244033 0.3993687 ] #Definning random \n",
      " type5 = [-0.77650986 -0.08848913  0.06540201 -0.49011136  2.3878448 ] #Definining random normal\n",
      "type6 = [ 2  4  6  8 10 12 14 16 18 20] \n",
      " type7 = [ 2.  4.  6.  8. 10. 12. 14. 16. 18. 20. 22.]\n"
     ]
    }
   ],
   "source": [
    "type1 = np.array([7,8,9,8])# Simply defininig an array\n",
    "type2 = np.zeros(5)#Defining the array with five numbers of zeros\n",
    "type3 = np.ones(5)#Defining the array with five numbers of ones\n",
    "type4 = np.random.random(5)#Definning random\n",
    "type5 = np.random.randn(5)#Definining random normal\n",
    "print(f\" type1 = {type1} # Simply defininig an array \\n type2 = {type2} #Defining the array with five numbers of zeros \\n type3 = {type3} #Defining the array with five numbers of ones  \\n type4 = {type4} #Definning random \\n type5 = {type5} #Definining random normal\")\n",
    "interval = 2\n",
    "division = 10\n",
    "type6 = np.arange(2,22,interval)\n",
    "type7 = np.linspace(2,22,division + 1)\n",
    "print(f\"type6 = {type6} \\n type7 = {type7}\")"
   ]
  },
  {
   "cell_type": "markdown",
   "id": "ab1de5b0",
   "metadata": {},
   "source": [
    "# Array Operations"
   ]
  },
  {
   "cell_type": "code",
   "execution_count": 4,
   "id": "caf4138b",
   "metadata": {},
   "outputs": [
    {
     "name": "stdout",
     "output_type": "stream",
     "text": [
      "\n",
      " Mat_A = [78 79 65 89 98 76] \n",
      " Mat_B = [76 89 65 98 76 78]\n"
     ]
    }
   ],
   "source": [
    "Mat_A = np.array([78,79,65,89,98,76])\n",
    "Mat_B = np.array([76,89,65,98,76,78])\n",
    "print(f\"\\n Mat_A = {Mat_A} \\n Mat_B = {Mat_B}\")"
   ]
  },
  {
   "cell_type": "markdown",
   "id": "1edd3fb5",
   "metadata": {},
   "source": [
    "### Elementary Operations"
   ]
  },
  {
   "cell_type": "code",
   "execution_count": 5,
   "id": "74298fb3",
   "metadata": {},
   "outputs": [
    {
     "name": "stdout",
     "output_type": "stream",
     "text": [
      "Mat_C = [1.02631579 0.88764045 1.         0.90816327 1.28947368 0.97435897]\n",
      "Mat_D = [0.01315789 0.01123596 0.01538462 0.01020408 0.01315789 0.01282051]\n",
      "\n",
      "Mat_Bool1 = [False False  True False False False]\n",
      "Mat_Bool2 = [ True  True False  True  True  True]\n",
      "\n",
      "Sorted_mat_A  = [78 79 89 98 76]\n",
      "Index_Mat_A = [[0 1 3 4 5]]\n"
     ]
    }
   ],
   "source": [
    "#Numeric return array\n",
    "Mat_C = Mat_A / Mat_B\n",
    "print(f\"Mat_C = {Mat_C}\")\n",
    "Mat_D = 1/Mat_B\n",
    "print(f\"Mat_D = {Mat_D}\")\n",
    "\n",
    "#Boolean return array\n",
    "Mat_Bool1 = Mat_A == Mat_B\n",
    "print(f\"\\nMat_Bool1 = {Mat_Bool1}\")\n",
    "Mat_Bool2 = Mat_A > 65\n",
    "print(f\"Mat_Bool2 = {Mat_Bool2}\")\n",
    "\n",
    "#Boolean sort array\n",
    "Sorted_mat_A = Mat_A[Mat_A != Mat_B]\n",
    "print(f\"\\nSorted_mat_A  = {Sorted_mat_A }\")\n",
    "\n",
    "#index return function\n",
    "Index_Mat_A = np.array(np.nonzero(Mat_A != Mat_B))\n",
    "print(f\"Index_Mat_A = {Index_Mat_A}\")"
   ]
  },
  {
   "cell_type": "markdown",
   "id": "6e2596ba",
   "metadata": {},
   "source": [
    "### Vectorization"
   ]
  },
  {
   "cell_type": "code",
   "execution_count": 6,
   "id": "6f8369b0",
   "metadata": {},
   "outputs": [
    {
     "name": "stdout",
     "output_type": "stream",
     "text": [
      "\n",
      " First_letter = ['P' 'B' 'P' 'P'] \n",
      " Is_First_letter_p = [ True False  True  True] \n",
      " First_letter_P = ['Pressnave' 'Poulin' 'Peter'] \n"
     ]
    }
   ],
   "source": [
    "Student_Name = np.array([\"Pressnave\", \"Bavanthini\" , \"Poulin\", \"Peter\"])\n",
    "First_letter = np.vectorize(lambda string:string[0])(Student_Name)\n",
    "Is_First_letter_p = np.vectorize(lambda string:string[0])(Student_Name) == 'P'\n",
    "First_letter_P = Student_Name[np.vectorize(lambda string:string[0])(Student_Name) == 'P']\n",
    "print(f\"\\n First_letter = {First_letter} \\n Is_First_letter_p = {Is_First_letter_p} \\n First_letter_P = {First_letter_P} \")"
   ]
  },
  {
   "cell_type": "markdown",
   "id": "31e79676",
   "metadata": {},
   "source": [
    "### From 2D Array to 1D Array"
   ]
  },
  {
   "cell_type": "code",
   "execution_count": 7,
   "id": "49252897",
   "metadata": {},
   "outputs": [
    {
     "name": "stdout",
     "output_type": "stream",
     "text": [
      "<class 'numpy.ndarray'>\n",
      "Arr.shape = (4, 2)\n",
      "\n",
      " Arr = \n",
      " [[ 7  9]\n",
      " [ 8 -6]\n",
      " [ 6  8]\n",
      " [ 4  5]]\n",
      " \n",
      " Arr[0][1] = 9\n",
      "\n",
      " Arr_new =[7 8 6 4]\n",
      "\n",
      " Arr_New[Arr_New > 4] = [7 8 6]\n"
     ]
    }
   ],
   "source": [
    "Arr = np.array([[7,9],[8,-6],[6,8],[4,5]])\n",
    "print(type(Arr))\n",
    "print(f\"Arr.shape = {Arr.shape}\")\n",
    "print(f\"\\n Arr = \\n {Arr}\")\n",
    "print(f\" \\n Arr[0][1] = {Arr[0][1]}\")\n",
    "\n",
    "#We can use len() function in numpy array\n",
    "Arr_New = np.array([Arr[i][0] for i in range(0,len(Arr))])\n",
    "print(f\"\\n Arr_new ={Arr_New}\")\n",
    "\n",
    "print(f\"\\n Arr_New[Arr_New > 4] = {Arr_New[Arr_New > 4]}\")\n"
   ]
  },
  {
   "cell_type": "markdown",
   "id": "2ebeb329",
   "metadata": {},
   "source": [
    "### Slicing"
   ]
  },
  {
   "cell_type": "markdown",
   "id": "a3396077",
   "metadata": {},
   "source": [
    "Numpy arrays are indexed from the beginning to end 0,1,2,3... and from the ending to begin -1,-2,-3... <br>\n",
    "arr = [7 , 8 , 9 , 23] <br>\n",
    "Here <br>\n",
    "arr[-1] = 23 <br>\n",
    "arr[0] = 7"
   ]
  },
  {
   "cell_type": "code",
   "execution_count": 8,
   "id": "0fd171ad",
   "metadata": {},
   "outputs": [
    {
     "name": "stdout",
     "output_type": "stream",
     "text": [
      "arr = [1 2 3 4 5 6 7 8]\n",
      "\n",
      " arr[:5] = [1 2 3 4 5]\n",
      "\n",
      " arr[-4:] = [5 6 7 8]\n",
      "\n",
      " arr[3:5] = [4 5] # 3rd , 4th index\n",
      "\n",
      " In default numpy order has step +1 if we want to reverse array we can use negative steps like native list\n",
      " List_A[2::-1] = [8, 7, 6]\n",
      "arr[0:7:-2] = [8 6 4 2]\n"
     ]
    }
   ],
   "source": [
    "arr = np.array([1,2,3,4,5,6,7,8])\n",
    "print(f\"arr = {arr}\")\n",
    "print(f\"\\n arr[:5] = {arr[:5]}\")\n",
    "print(f\"\\n arr[-4:] = {arr[-4:]}\")\n",
    "print(f\"\\n arr[3:5] = {arr[3:5]} # 3rd , 4th index\")\n",
    "'''In default numpy order has step +1 if we want to reverse array we can use negative steps like\n",
    "    native list\n",
    "'''\n",
    "List_A = [6,7,8]\n",
    "print(f\"\\n In default numpy order has step +1 if we want to reverse array we can use negative steps like native list\\n List_A[2::-1] = {List_A[2::-1]}\")\n",
    "print(f\"arr[0:7:-2] = {arr[7:0:-2]}\")"
   ]
  },
  {
   "cell_type": "code",
   "execution_count": null,
   "id": "e38507a0",
   "metadata": {},
   "outputs": [],
   "source": []
  }
 ],
 "metadata": {
  "interpreter": {
   "hash": "11938c6bc6919ae2720b4d5011047913343b08a43b18698fd82dedb0d4417594"
  },
  "kernelspec": {
   "display_name": "Python 3.9.11 64-bit",
   "language": "python",
   "name": "python3"
  },
  "language_info": {
   "codemirror_mode": {
    "name": "ipython",
    "version": 3
   },
   "file_extension": ".py",
   "mimetype": "text/x-python",
   "name": "python",
   "nbconvert_exporter": "python",
   "pygments_lexer": "ipython3",
   "version": "3.9.11"
  },
  "toc": {
   "base_numbering": 1,
   "nav_menu": {},
   "number_sections": true,
   "sideBar": true,
   "skip_h1_title": false,
   "title_cell": "Table of Contents",
   "title_sidebar": "Contents",
   "toc_cell": false,
   "toc_position": {},
   "toc_section_display": true,
   "toc_window_display": true
  }
 },
 "nbformat": 4,
 "nbformat_minor": 5
}
