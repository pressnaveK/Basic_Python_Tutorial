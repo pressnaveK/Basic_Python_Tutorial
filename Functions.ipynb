{
 "cells": [
  {
   "cell_type": "markdown",
   "id": "a14cfd3a",
   "metadata": {},
   "source": [
    "# FUNCTIONS"
   ]
  },
  {
   "cell_type": "code",
   "execution_count": 1,
   "id": "e587716e",
   "metadata": {},
   "outputs": [],
   "source": [
    "def Volume(length, breadth , height):\n",
    "    Vol = length * breadth * height\n",
    "    return Vol"
   ]
  },
  {
   "cell_type": "markdown",
   "id": "f2237106",
   "metadata": {},
   "source": [
    "## Function Calling of Named or Keyword Argument "
   ]
  },
  {
   "cell_type": "markdown",
   "id": "d05e90b8",
   "metadata": {},
   "source": [
    "During the function call,positional argument cannot follow keyword argument."
   ]
  },
  {
   "cell_type": "code",
   "execution_count": 2,
   "id": "eb3c00ac",
   "metadata": {},
   "outputs": [
    {
     "name": "stdout",
     "output_type": "stream",
     "text": [
      "Volume = 138\n"
     ]
    }
   ],
   "source": [
    "V = Volume(23,breadth = 3 ,height= 2)\n",
    "print(f\"Volume = {V}\")"
   ]
  },
  {
   "cell_type": "code",
   "execution_count": 3,
   "id": "9e4260e8",
   "metadata": {},
   "outputs": [
    {
     "ename": "SyntaxError",
     "evalue": "positional argument follows keyword argument (4152874592.py, line 1)",
     "output_type": "error",
     "traceback": [
      "\u001b[1;36m  Input \u001b[1;32mIn [3]\u001b[1;36m\u001b[0m\n\u001b[1;33m    V = Volume(23,breadth = 3 ,2)\u001b[0m\n\u001b[1;37m                                ^\u001b[0m\n\u001b[1;31mSyntaxError\u001b[0m\u001b[1;31m:\u001b[0m positional argument follows keyword argument\n"
     ]
    }
   ],
   "source": [
    "V = Volume(23,breadth = 3 ,2)\n",
    "print(f\"Volume = {V}\")"
   ]
  },
  {
   "cell_type": "markdown",
   "id": "d283bcd7",
   "metadata": {},
   "source": [
    "## Default Arguments"
   ]
  },
  {
   "cell_type": "markdown",
   "id": "89678e64",
   "metadata": {},
   "source": [
    "If take a parameter as a default value, the all the parameters right to it should be default."
   ]
  },
  {
   "cell_type": "code",
   "execution_count": 4,
   "id": "505e91a1",
   "metadata": {},
   "outputs": [
    {
     "name": "stdout",
     "output_type": "stream",
     "text": [
      "Volume = 1539.3804002589986\n"
     ]
    }
   ],
   "source": [
    "#Function Definition\n",
    "import math\n",
    "def Volume(height,length = None, breadth = None , Radius = None):\n",
    "    if Radius != None:\n",
    "        vol = math.pi * height *Radius**2\n",
    "    else:\n",
    "        vol = height*breadth * length\n",
    "    return vol\n",
    "\n",
    "#Funnction call\n",
    "V = Volume(10,Radius = 7)\n",
    "print(f\"Volume = {V}\")\n",
    "    "
   ]
  },
  {
   "cell_type": "markdown",
   "id": "5f64127b",
   "metadata": {},
   "source": [
    "## Functions with multiple arguments"
   ]
  },
  {
   "cell_type": "markdown",
   "id": "382f3544",
   "metadata": {},
   "source": [
    "### *args"
   ]
  },
  {
   "cell_type": "code",
   "execution_count": 5,
   "id": "c9155ef0",
   "metadata": {},
   "outputs": [
    {
     "name": "stdout",
     "output_type": "stream",
     "text": [
      "\n",
      " (('THS', 'LHS'), 'THS') \n",
      " (('L', 'H', 'S'), 'L') \n",
      " (4, 8, 6) \n",
      " 4\n"
     ]
    }
   ],
   "source": [
    "def getFunc(*args):#here return of args(arguments) is a dictionary\n",
    "    return args,args[0] \n",
    "#Passing list array\n",
    "y = getFunc(*['THS' , 'LHS'])\n",
    "#Passing string array\n",
    "z = getFunc(*'LHS')\n",
    "#Passing multiple values\n",
    "a , b= getFunc(4,8,6)\n",
    "print(f\"\\n {y} \\n {z} \\n {a} \\n {b}\")"
   ]
  },
  {
   "cell_type": "markdown",
   "id": "682dc257",
   "metadata": {},
   "source": [
    "# eg:-"
   ]
  },
  {
   "cell_type": "code",
   "execution_count": 6,
   "id": "ee2118b3",
   "metadata": {},
   "outputs": [
    {
     "name": "stdout",
     "output_type": "stream",
     "text": [
      "Num = 14 and Num2 = 66\n"
     ]
    }
   ],
   "source": [
    "def Sum(*num,index=1): \n",
    "    Sum = 0\n",
    "    for i in range (len(num)) :\n",
    "        Sum += num[i]**index\n",
    "    return Sum\n",
    "Num1 = Sum(1,2,5,6)\n",
    "Num2 = Sum(1,2,5,6,index = 2)#If the function has some positional arguments next to multiple argument tuple,they should be keyword arguments. \n",
    "print(f\"Num = {Num1} and Num2 = {Num2}\")"
   ]
  },
  {
   "cell_type": "markdown",
   "id": "ad390fcc",
   "metadata": {},
   "source": [
    "### ** kwargs"
   ]
  },
  {
   "cell_type": "code",
   "execution_count": 7,
   "id": "5094ab59",
   "metadata": {},
   "outputs": [
    {
     "name": "stdout",
     "output_type": "stream",
     "text": [
      "{'Name': 'Pressnave', 'Age': 24}\n"
     ]
    }
   ],
   "source": [
    "def getFunc_1(**kwargs):#here return of kwargs(key word arguments) is a dictionary\n",
    "    return kwargs\n",
    "y = getFunc_1(Name = 'Pressnave',Age = 24)\n",
    "print(y)"
   ]
  },
  {
   "cell_type": "markdown",
   "id": "a995898e",
   "metadata": {},
   "source": [
    "### Compained Arguments\n"
   ]
  },
  {
   "cell_type": "markdown",
   "id": "8842c4a7",
   "metadata": {},
   "source": [
    "If a function contains positional_arg,args and kwargs, They should be the arrangement of (args,positional_arg,kwargs) but while function calling, the positional arg should be called as keyword argument."
   ]
  },
  {
   "cell_type": "code",
   "execution_count": 8,
   "id": "40f1447a",
   "metadata": {},
   "outputs": [
    {
     "ename": "SyntaxError",
     "evalue": "invalid syntax (2551815821.py, line 1)",
     "output_type": "error",
     "traceback": [
      "\u001b[1;36m  Input \u001b[1;32mIn [8]\u001b[1;36m\u001b[0m\n\u001b[1;33m    def getFunc2(**kwargs,*args):\u001b[0m\n\u001b[1;37m                          ^\u001b[0m\n\u001b[1;31mSyntaxError\u001b[0m\u001b[1;31m:\u001b[0m invalid syntax\n"
     ]
    }
   ],
   "source": [
    "def getFunc2(**kwargs,*args):\n",
    "    return kwargs , args\n"
   ]
  },
  {
   "cell_type": "code",
   "execution_count": 9,
   "id": "bdf44ffa",
   "metadata": {},
   "outputs": [],
   "source": [
    "def getFunc2(*args,at,**kwargs):\n",
    "    return kwargs , args , at\n"
   ]
  },
  {
   "cell_type": "markdown",
   "id": "f291935e",
   "metadata": {},
   "source": [
    "while function calling, keyword argument of specific positional argument locates anywhere after multiple positional arguments"
   ]
  },
  {
   "cell_type": "code",
   "execution_count": 10,
   "id": "c64ab0fe",
   "metadata": {},
   "outputs": [
    {
     "name": "stdout",
     "output_type": "stream",
     "text": [
      "({'on': 34, 'of': 5, 'upto': 3}, (2, 3), 3)\n"
     ]
    }
   ],
   "source": [
    "#This funtion calling explain the above fact.\n",
    "y = getFunc2(2,3,on = 34, of = 5, at = 3 , upto = 3 ) \n",
    "print(y)"
   ]
  },
  {
   "cell_type": "markdown",
   "id": "ed658221",
   "metadata": {},
   "source": [
    "## Lambda Function\n",
    "It's called one lined(anonymous) function."
   ]
  },
  {
   "cell_type": "code",
   "execution_count": 14,
   "id": "7e29ed87",
   "metadata": {},
   "outputs": [
    {
     "data": {
      "text/plain": [
       "'Greater'"
      ]
     },
     "execution_count": 14,
     "metadata": {},
     "output_type": "execute_result"
    }
   ],
   "source": [
    "func = lambda x,y : \"Greater\" if x > y else \"Lower\"\n",
    "func(7,2)"
   ]
  },
  {
   "cell_type": "markdown",
   "id": "26e8ed22",
   "metadata": {},
   "source": [
    "# Decorator Function "
   ]
  },
  {
   "cell_type": "markdown",
   "id": "589d9ca4",
   "metadata": {},
   "source": [
    "### Function into a function"
   ]
  },
  {
   "cell_type": "code",
   "execution_count": 16,
   "id": "e8835775",
   "metadata": {},
   "outputs": [
    {
     "name": "stdout",
     "output_type": "stream",
     "text": [
      " Lower \n",
      " Greater \n",
      " Greater\n"
     ]
    }
   ],
   "source": [
    "def func_Otter (func):\n",
    "    def func_Inner(a,b):\n",
    "        y = func(a,b)\n",
    "        if y == 1:\n",
    "            return \"Greater\"\n",
    "        elif y == 0:\n",
    "            return \"Lower\"\n",
    "    return func_Inner\n",
    "\n",
    "#Non decorated Function\n",
    "def custom_function1(c,d):\n",
    "    if c > d:return 1\n",
    "    else:return 0\n",
    "\n",
    "#Decorated Funnction\n",
    "@func_Otter\n",
    "def custom_function2(c,d):\n",
    "    if c > d:return 1\n",
    "    else:return 0\n",
    "\n",
    "#Anonymous function\n",
    "Out1 = func_Otter(lambda x,y : 1 if x > y else 0)(5,6)\n",
    "\n",
    "Out2 = func_Otter(custom_function1)(8,7)\n",
    "Out3 = custom_function2(4,3)\n",
    "print(f\" {Out1} \\n {Out2} \\n {Out3}\")\n"
   ]
  },
  {
   "cell_type": "code",
   "execution_count": 17,
   "id": "cf9d8b86",
   "metadata": {},
   "outputs": [
    {
     "name": "stdout",
     "output_type": "stream",
     "text": [
      "Summing took 0.0 secs\n",
      "33\n"
     ]
    }
   ],
   "source": [
    "import time\n",
    "def timming(func):\n",
    "    def wrapper(*args,**kwargs):\n",
    "        start = time.time()\n",
    "        result = func(*args,**kwargs)\n",
    "        end = time.time()\n",
    "        print(func.__name__ ,\"took\" ,str(end - start) , \"secs\")\n",
    "        return result\n",
    "    return wrapper\n",
    "@timming\n",
    "def Summing(*num):\n",
    "    Sum = 0\n",
    "    for i in range (len(num)) :\n",
    "        Sum += num[i]\n",
    "    return Sum\n",
    "sum = Summing(3,7,8,9,4,2)  \n",
    "print(sum)\n",
    "            "
   ]
  },
  {
   "cell_type": "markdown",
   "id": "52cdd3f6",
   "metadata": {},
   "source": [
    "### Decorator Function with Argument"
   ]
  },
  {
   "cell_type": "code",
   "execution_count": 18,
   "id": "77b9c37e",
   "metadata": {},
   "outputs": [
    {
     "data": {
      "text/plain": [
       "36"
      ]
     },
     "execution_count": 18,
     "metadata": {},
     "output_type": "execute_result"
    }
   ],
   "source": [
    "def generate_power(exponent):\n",
    "    def power(func):\n",
    "        def inner_power(n):\n",
    "            base = func(n)** exponent  # Here func(n) is return value of decorated function\n",
    "            return base \n",
    "        return inner_power\n",
    "    return power\n",
    "\n",
    "@generate_power(2)\n",
    "def raise_two(n):\n",
    "    a = 2 * n  \n",
    "    return a\n",
    "     \n",
    "raise_two(3)"
   ]
  }
 ],
 "metadata": {
  "kernelspec": {
   "display_name": "Python 3.9.11 64-bit",
   "language": "python",
   "name": "python3"
  },
  "language_info": {
   "codemirror_mode": {
    "name": "ipython",
    "version": 3
   },
   "file_extension": ".py",
   "mimetype": "text/x-python",
   "name": "python",
   "nbconvert_exporter": "python",
   "pygments_lexer": "ipython3",
   "version": "3.9.11"
  },
  "toc": {
   "base_numbering": 1,
   "nav_menu": {},
   "number_sections": true,
   "sideBar": true,
   "skip_h1_title": false,
   "title_cell": "Table of Contents",
   "title_sidebar": "Contents",
   "toc_cell": false,
   "toc_position": {},
   "toc_section_display": true,
   "toc_window_display": false
  },
  "vscode": {
   "interpreter": {
    "hash": "11938c6bc6919ae2720b4d5011047913343b08a43b18698fd82dedb0d4417594"
   }
  }
 },
 "nbformat": 4,
 "nbformat_minor": 5
}
