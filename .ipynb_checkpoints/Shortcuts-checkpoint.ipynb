{
 "cells": [
  {
   "cell_type": "code",
   "execution_count": 1,
   "id": "313226b6",
   "metadata": {},
   "outputs": [
    {
     "name": "stdout",
     "output_type": "stream",
     "text": [
      "5 and 3\n"
     ]
    }
   ],
   "source": [
    "#String operation -1\n",
    "x = 5\n",
    "y = 3 \n",
    "z = \"{0} and {1}\".format(x,y)\n",
    "print(z)"
   ]
  },
  {
   "cell_type": "code",
   "execution_count": 4,
   "id": "b295a2d3",
   "metadata": {},
   "outputs": [
    {
     "name": "stdout",
     "output_type": "stream",
     "text": [
      "7 and 8\n",
      "This 11 , 5\n"
     ]
    }
   ],
   "source": [
    "#String operation -2\n",
    "a = 7\n",
    "b = 5\n",
    "r = f\"{a} and {b+3}\"\n",
    "t = F\"This {a+4} , {b}\"\n",
    "print(r)\n",
    "print(t)"
   ]
  },
  {
   "cell_type": "markdown",
   "id": "58f772f2",
   "metadata": {},
   "source": [
    "# Arrays or Data structure in python\n",
    "There are three ways that we can denote the arrays\n",
    " 1.List - Variable array\n",
    " 2.Tuple - constant array (Any elements(keys) of this array cannot be removable or editalble,The execution time is lower than other arrays)\n",
    " 3.Dictionary - Variable array but keys(elements) can be named\n",
    "\n",
    "\n"
   ]
  },
  {
   "cell_type": "code",
   "execution_count": 16,
   "id": "70fbbc80",
   "metadata": {},
   "outputs": [
    {
     "name": "stdout",
     "output_type": "stream",
     "text": [
      "__main__\n"
     ]
    }
   ],
   "source": [
    "print(__name__)"
   ]
  },
  {
   "cell_type": "code",
   "execution_count": 15,
   "id": "7e7fca97",
   "metadata": {},
   "outputs": [
    {
     "name": "stdout",
     "output_type": "stream",
     "text": [
      "HI\n"
     ]
    }
   ],
   "source": [
    "print(\"HI\")"
   ]
  },
  {
   "cell_type": "code",
   "execution_count": null,
   "id": "145c08b8",
   "metadata": {},
   "outputs": [],
   "source": []
  }
 ],
 "metadata": {
  "kernelspec": {
   "display_name": "Python 3",
   "language": "python",
   "name": "python3"
  },
  "language_info": {
   "codemirror_mode": {
    "name": "ipython",
    "version": 3
   },
   "file_extension": ".py",
   "mimetype": "text/x-python",
   "name": "python",
   "nbconvert_exporter": "python",
   "pygments_lexer": "ipython3",
   "version": "3.8.8"
  }
 },
 "nbformat": 4,
 "nbformat_minor": 5
}
