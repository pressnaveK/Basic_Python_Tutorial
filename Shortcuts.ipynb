{
 "cells": [
  {
   "cell_type": "markdown",
   "id": "4a294f1a",
   "metadata": {},
   "source": [
    "# String Operation"
   ]
  },
  {
   "cell_type": "code",
   "execution_count": 1,
   "id": "a5e6abce",
   "metadata": {},
   "outputs": [
    {
     "name": "stdout",
     "output_type": "stream",
     "text": [
      "5 and 3\n"
     ]
    }
   ],
   "source": [
    "#String operation -1\n",
    "x = 5\n",
    "y = 3 \n",
    "z = \"{0} and {1}\".format(x,y)\n",
    "print(z)"
   ]
  },
  {
   "cell_type": "code",
   "execution_count": 2,
   "id": "b295a2d3",
   "metadata": {},
   "outputs": [
    {
     "name": "stdout",
     "output_type": "stream",
     "text": [
      "7 and 8 and[3, 4, 5]\n",
      "This 11 , 5\n"
     ]
    }
   ],
   "source": [
    "#String operation -2 (F string)\n",
    "a = 7\n",
    "b = 5\n",
    "r = f\"{a} and {b+3} and{[3,4,5]}\"\n",
    "t = F\"This {a+4} , {b}\"\n",
    "print(r)\n",
    "print(t)"
   ]
  },
  {
   "cell_type": "markdown",
   "id": "58f772f2",
   "metadata": {},
   "source": [
    "# Unpacking the list and tuple\n"
   ]
  },
  {
   "cell_type": "code",
   "execution_count": 3,
   "id": "70fbbc80",
   "metadata": {},
   "outputs": [
    {
     "name": "stdout",
     "output_type": "stream",
     "text": [
      "lst_0 , lst_1 , lst_2   = 1 , 3 , 5\n",
      "tup_0 , tup_1 , tup_2   = 3 , 4 , 5\n",
      "Char_0 , char_1 , char_2 = H , e , y\n"
     ]
    }
   ],
   "source": [
    "#For list and tuple\n",
    "lst = [1,3,5]\n",
    "tup = (3,4,5)\n",
    "lst_0 , lst_1 , lst_2 = lst\n",
    "tup_0 , tup_1 , tup_2 = tup\n",
    "print(f\"lst_0 , lst_1 , lst_2   = {lst_0} , {lst_1} , {lst_2}\")\n",
    "print(f\"tup_0 , tup_1 , tup_2   = {tup_0} , {tup_1} , {tup_2}\")\n",
    "\n",
    "#For a string\n",
    "string = \"Hey\"\n",
    "Char_0 , Char_1 , Char_2 = string\n",
    "print(f\"Char_0 , char_1 , char_2 = {Char_0} , {Char_1} , {Char_2}\")\n",
    "\n",
    "#For a dictionary\n",
    "dic = {\"Name\":\"Pressnave\",\"Age\": 23}"
   ]
  },
  {
   "cell_type": "markdown",
   "id": "9c83528d",
   "metadata": {},
   "source": [
    "# Multi Return Function"
   ]
  },
  {
   "cell_type": "markdown",
   "id": "9af218e9",
   "metadata": {},
   "source": [
    "If the function has a tuple or list return value, it can be unpacked."
   ]
  },
  {
   "cell_type": "code",
   "execution_count": 4,
   "id": "145c08b8",
   "metadata": {},
   "outputs": [
    {
     "name": "stdout",
     "output_type": "stream",
     "text": [
      "2 , 3\n"
     ]
    }
   ],
   "source": [
    "def func_1(a,b):\n",
    "    return [a,b]\n",
    "x,y = func_1(2,3)\n",
    "print(f\"{x} , {y}\")\n"
   ]
  },
  {
   "cell_type": "markdown",
   "id": "1e01445c",
   "metadata": {},
   "source": [
    "multi return values also can be unpacked."
   ]
  },
  {
   "cell_type": "code",
   "execution_count": 5,
   "id": "ab0d5111",
   "metadata": {},
   "outputs": [
    {
     "name": "stdout",
     "output_type": "stream",
     "text": [
      "x = 2, y = 3 , z = [2, 3]\n"
     ]
    }
   ],
   "source": [
    "def func_2(a,b):\n",
    "    return a,b,[a,b]\n",
    "x,y,z = func_2(2,3)\n",
    "print(f\"x = {x}, y = {y} , z = {z}\")"
   ]
  },
  {
   "cell_type": "markdown",
   "id": "b3114798",
   "metadata": {},
   "source": [
    "if any return tuple or list value should be unpacked,"
   ]
  },
  {
   "cell_type": "code",
   "execution_count": 6,
   "id": "b8b82e42",
   "metadata": {},
   "outputs": [
    {
     "name": "stdout",
     "output_type": "stream",
     "text": [
      "p = 4, q = 6, r = 4, s = 6\n"
     ]
    }
   ],
   "source": [
    "p,q,[r,s] = func_2(4,6)\n",
    "print(f\"p = {p}, q = {q}, r = {r}, s = {s}\")"
   ]
  },
  {
   "cell_type": "markdown",
   "id": "7662070a",
   "metadata": {},
   "source": [
    "# Swaping Values"
   ]
  },
  {
   "cell_type": "code",
   "execution_count": 7,
   "id": "57ccdc64",
   "metadata": {},
   "outputs": [
    {
     "name": "stdout",
     "output_type": "stream",
     "text": [
      "width = 400, height = 200\n"
     ]
    }
   ],
   "source": [
    "width,height = 200 , 400\n",
    "width,height = height,width\n",
    "print(f\"width = {width}, height = {height}\")"
   ]
  },
  {
   "cell_type": "code",
   "execution_count": null,
   "id": "9fa73aa1",
   "metadata": {},
   "outputs": [],
   "source": []
  }
 ],
 "metadata": {
  "kernelspec": {
   "display_name": "Python 3 (ipykernel)",
   "language": "python",
   "name": "python3"
  },
  "language_info": {
   "codemirror_mode": {
    "name": "ipython",
    "version": 3
   },
   "file_extension": ".py",
   "mimetype": "text/x-python",
   "name": "python",
   "nbconvert_exporter": "python",
   "pygments_lexer": "ipython3",
   "version": "3.9.11"
  }
 },
 "nbformat": 4,
 "nbformat_minor": 5
}
