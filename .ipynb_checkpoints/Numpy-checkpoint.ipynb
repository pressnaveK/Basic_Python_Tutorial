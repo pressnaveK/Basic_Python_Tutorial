{
 "cells": [
  {
   "cell_type": "markdown",
   "id": "d903297d",
   "metadata": {},
   "source": [
    "# Why numpy over python list"
   ]
  },
  {
   "cell_type": "markdown",
   "id": "5466f36a",
   "metadata": {},
   "source": [
    "High Speed\n",
    "Low memory Requirement"
   ]
  },
  {
   "cell_type": "code",
   "execution_count": 6,
   "id": "2759601b",
   "metadata": {},
   "outputs": [
    {
     "name": "stdout",
     "output_type": "stream",
     "text": [
      "List process in milliseconds 742.0170307159424\n",
      "Numpy array process in milliseconds 15.957117080688477\n"
     ]
    }
   ],
   "source": [
    "import numpy as np\n",
    "from time import time as tm\n",
    "Size = 10000000\n",
    "List1 = list(range(Size))\n",
    "List2 = list(range(Size))\n",
    "NumpyArr1 = np.arange(Size)\n",
    "NumpyArr2 = np.arange(Size)\n",
    "\n",
    "#Results\n",
    "start = tm()\n",
    "ResultList = [(x+y) for x,y in zip(List1,List2)]\n",
    "print(f\"List process in milliseconds {(tm() - start)*1000}\")\n",
    "\n",
    "start = tm()\n",
    "ResultNumpy = NumpyArr2 + NumpyArr1\n",
    "print(f\"Numpy array process in milliseconds {(tm() - start)*1000}\")\n"
   ]
  },
  {
   "cell_type": "markdown",
   "id": "00711930",
   "metadata": {},
   "source": [
    "# Array operation"
   ]
  },
  {
   "cell_type": "code",
   "execution_count": 6,
   "id": "cfbcd55f",
   "metadata": {},
   "outputs": [
    {
     "name": "stdout",
     "output_type": "stream",
     "text": [
      "a*b = [49 16 72]\n",
      "a > 8 = [False False  True]\n"
     ]
    }
   ],
   "source": [
    "import numpy as np\n",
    "a = np.array([7,8,9])\n",
    "b = np.array([7,2,8])\n",
    "print(f\"a*b = {a*b}\")\n",
    "print(f\"a > 8 = {a > 8}\")"
   ]
  },
  {
   "cell_type": "markdown",
   "id": "31e79676",
   "metadata": {},
   "source": [
    "# Indexing"
   ]
  },
  {
   "cell_type": "code",
   "execution_count": 2,
   "id": "49252897",
   "metadata": {},
   "outputs": [
    {
     "name": "stdout",
     "output_type": "stream",
     "text": [
      "[7 9]\n"
     ]
    }
   ],
   "source": [
    "import numpy as np\n",
    "Arr = np.array([[7,9],[8,0]])\n",
    "print(Arr[0])"
   ]
  },
  {
   "cell_type": "markdown",
   "id": "3c77b94c",
   "metadata": {},
   "source": [
    "# Types of Array"
   ]
  },
  {
   "cell_type": "code",
   "execution_count": 3,
   "id": "fb22720f",
   "metadata": {},
   "outputs": [
    {
     "name": "stdout",
     "output_type": "stream",
     "text": [
      " type1 = [7 8 9 8] # Simply defininig an array \n",
      " type2 = [0. 0. 0. 0. 0.] #Defining the array with five numbers of zeros \n",
      " type3 = [1. 1. 1. 1. 1.] #Defining the array with five numbers of ones  \n",
      " type4 = [0.7875487  0.55018093 0.82790786 0.9576074  0.1733534 ] #Definning random \n",
      " type5 = [ 0.58419894  0.49418359 -0.34340845  0.41408187 -0.83031952] #Definining random normal\n"
     ]
    }
   ],
   "source": [
    "import numpy as np\n",
    "type1 = np.array([7,8,9,8])# Simply defininig an array\n",
    "type2 = np.zeros(5)#Defining the array with five numbers of zeros\n",
    "type3 = np.ones(5)#Defining the array with five numbers of ones\n",
    "type4 = np.random.random(5)#Definning random\n",
    "type5 = np.random.randn(5)#Definining random normal\n",
    "print(f\" type1 = {type1} # Simply defininig an array \\n type2 = {type2} #Defining the array with five numbers of zeros \\n type3 = {type3} #Defining the array with five numbers of ones  \\n type4 = {type4} #Definning random \\n type5 = {type5} #Definining random normal\")"
   ]
  },
  {
   "cell_type": "code",
   "execution_count": null,
   "id": "e38507a0",
   "metadata": {},
   "outputs": [],
   "source": []
  }
 ],
 "metadata": {
  "kernelspec": {
   "display_name": "Python 3 (ipykernel)",
   "language": "python",
   "name": "python3"
  },
  "language_info": {
   "codemirror_mode": {
    "name": "ipython",
    "version": 3
   },
   "file_extension": ".py",
   "mimetype": "text/x-python",
   "name": "python",
   "nbconvert_exporter": "python",
   "pygments_lexer": "ipython3",
   "version": "3.9.11"
  }
 },
 "nbformat": 4,
 "nbformat_minor": 5
}
