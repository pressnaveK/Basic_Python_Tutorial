{
 "cells": [
  {
   "cell_type": "markdown",
   "id": "cabda891",
   "metadata": {},
   "source": [
    "# If condition"
   ]
  },
  {
   "cell_type": "raw",
   "id": "1e514171",
   "metadata": {},
   "source": [
    "Logical operators\n",
    "\n",
    "Equals                    a == b\n",
    "Not Equals                a != b\n",
    "Less than                 a < b\n",
    "Less than or equal        a <= b\n",
    "Greater than              a > b\n",
    "Greater than or equal     a >= b\n",
    "And                       and\n",
    "Or                        or\n",
    "Not                       not\n"
   ]
  },
  {
   "cell_type": "code",
   "execution_count": 3,
   "id": "8cd35996",
   "metadata": {},
   "outputs": [
    {
     "name": "stdout",
     "output_type": "stream",
     "text": [
      "Enter a num:5\n",
      "ODD NUM\n",
      "5\n"
     ]
    }
   ],
   "source": [
    "i = int(input(\"Enter a num:\"))\n",
    "if i%2 == 1:print(\"ODD NUM\");print(i)  \n",
    "else:\n",
    "    print(\"EVEN NUM\")\n",
    "    print(i)\n"
   ]
  },
  {
   "cell_type": "markdown",
   "id": "2911c384",
   "metadata": {},
   "source": [
    "# For loop"
   ]
  },
  {
   "cell_type": "code",
   "execution_count": 4,
   "id": "1bdee83d",
   "metadata": {},
   "outputs": [
    {
     "name": "stdout",
     "output_type": "stream",
     "text": [
      "Enter :4\n",
      "1\n",
      "_____\n",
      "22\n",
      "_____\n",
      "333\n",
      "_____\n"
     ]
    }
   ],
   "source": [
    "Sum = 0\n",
    "for i in range(int(input(\"Enter :\"))-1):Sum += 10**i ; print((i+1)*Sum);print(\"_____\")"
   ]
  },
  {
   "cell_type": "code",
   "execution_count": null,
   "id": "64a9c0ba",
   "metadata": {},
   "outputs": [],
   "source": []
  }
 ],
 "metadata": {
  "kernelspec": {
   "display_name": "Python 3 (ipykernel)",
   "language": "python",
   "name": "python3"
  },
  "language_info": {
   "codemirror_mode": {
    "name": "ipython",
    "version": 3
   },
   "file_extension": ".py",
   "mimetype": "text/x-python",
   "name": "python",
   "nbconvert_exporter": "python",
   "pygments_lexer": "ipython3",
   "version": "3.9.11"
  }
 },
 "nbformat": 4,
 "nbformat_minor": 5
}
